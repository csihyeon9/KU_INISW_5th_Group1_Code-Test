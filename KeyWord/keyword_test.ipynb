{
 "cells": [
  {
   "cell_type": "code",
   "execution_count": 15,
   "id": "18eb217f-3c03-4673-bf97-699aa46f2679",
   "metadata": {
    "scrolled": true
   },
   "outputs": [
    {
     "name": "stdout",
     "output_type": "stream",
     "text": [
      "Requirement already satisfied: transformers in c:\\users\\sashi\\anaconda3\\lib\\site-packages (4.46.1)\n",
      "Requirement already satisfied: keybert in c:\\users\\sashi\\anaconda3\\lib\\site-packages (0.8.5)\n",
      "Requirement already satisfied: filelock in c:\\users\\sashi\\anaconda3\\lib\\site-packages (from transformers) (3.13.1)\n",
      "Requirement already satisfied: huggingface-hub<1.0,>=0.23.2 in c:\\users\\sashi\\anaconda3\\lib\\site-packages (from transformers) (0.24.6)\n",
      "Requirement already satisfied: numpy>=1.17 in c:\\users\\sashi\\anaconda3\\lib\\site-packages (from transformers) (1.26.4)\n",
      "Requirement already satisfied: packaging>=20.0 in c:\\users\\sashi\\anaconda3\\lib\\site-packages (from transformers) (24.1)\n",
      "Requirement already satisfied: pyyaml>=5.1 in c:\\users\\sashi\\anaconda3\\lib\\site-packages (from transformers) (6.0.2)\n",
      "Requirement already satisfied: regex!=2019.12.17 in c:\\users\\sashi\\anaconda3\\lib\\site-packages (from transformers) (2023.10.3)\n",
      "Requirement already satisfied: requests in c:\\users\\sashi\\anaconda3\\lib\\site-packages (from transformers) (2.32.3)\n",
      "Requirement already satisfied: safetensors>=0.4.1 in c:\\users\\sashi\\anaconda3\\lib\\site-packages (from transformers) (0.4.4)\n",
      "Requirement already satisfied: tokenizers<0.21,>=0.20 in c:\\users\\sashi\\anaconda3\\lib\\site-packages (from transformers) (0.20.1)\n",
      "Requirement already satisfied: tqdm>=4.27 in c:\\users\\sashi\\anaconda3\\lib\\site-packages (from transformers) (4.66.4)\n",
      "Requirement already satisfied: rich>=10.4.0 in c:\\users\\sashi\\anaconda3\\lib\\site-packages (from keybert) (13.3.5)\n",
      "Requirement already satisfied: scikit-learn>=0.22.2 in c:\\users\\sashi\\anaconda3\\lib\\site-packages (from keybert) (1.4.2)\n",
      "Requirement already satisfied: sentence-transformers>=0.3.8 in c:\\users\\sashi\\anaconda3\\lib\\site-packages (from keybert) (3.2.1)\n",
      "Requirement already satisfied: fsspec>=2023.5.0 in c:\\users\\sashi\\anaconda3\\lib\\site-packages (from huggingface-hub<1.0,>=0.23.2->transformers) (2024.3.1)\n",
      "Requirement already satisfied: typing-extensions>=3.7.4.3 in c:\\users\\sashi\\anaconda3\\lib\\site-packages (from huggingface-hub<1.0,>=0.23.2->transformers) (4.11.0)\n",
      "Requirement already satisfied: markdown-it-py<3.0.0,>=2.2.0 in c:\\users\\sashi\\anaconda3\\lib\\site-packages (from rich>=10.4.0->keybert) (2.2.0)\n",
      "Requirement already satisfied: pygments<3.0.0,>=2.13.0 in c:\\users\\sashi\\anaconda3\\lib\\site-packages (from rich>=10.4.0->keybert) (2.18.0)\n",
      "Requirement already satisfied: scipy>=1.6.0 in c:\\users\\sashi\\anaconda3\\lib\\site-packages (from scikit-learn>=0.22.2->keybert) (1.13.1)\n",
      "Requirement already satisfied: joblib>=1.2.0 in c:\\users\\sashi\\anaconda3\\lib\\site-packages (from scikit-learn>=0.22.2->keybert) (1.4.2)\n",
      "Requirement already satisfied: threadpoolctl>=2.0.0 in c:\\users\\sashi\\anaconda3\\lib\\site-packages (from scikit-learn>=0.22.2->keybert) (2.2.0)\n",
      "Requirement already satisfied: torch>=1.11.0 in c:\\users\\sashi\\anaconda3\\lib\\site-packages (from sentence-transformers>=0.3.8->keybert) (2.4.1)\n",
      "Requirement already satisfied: Pillow in c:\\users\\sashi\\anaconda3\\lib\\site-packages (from sentence-transformers>=0.3.8->keybert) (10.3.0)\n",
      "Requirement already satisfied: colorama in c:\\users\\sashi\\anaconda3\\lib\\site-packages (from tqdm>=4.27->transformers) (0.4.6)\n",
      "Requirement already satisfied: charset-normalizer<4,>=2 in c:\\users\\sashi\\anaconda3\\lib\\site-packages (from requests->transformers) (3.3.2)\n",
      "Requirement already satisfied: idna<4,>=2.5 in c:\\users\\sashi\\anaconda3\\lib\\site-packages (from requests->transformers) (3.8)\n",
      "Requirement already satisfied: urllib3<3,>=1.21.1 in c:\\users\\sashi\\anaconda3\\lib\\site-packages (from requests->transformers) (2.2.2)\n",
      "Requirement already satisfied: certifi>=2017.4.17 in c:\\users\\sashi\\anaconda3\\lib\\site-packages (from requests->transformers) (2024.8.30)\n",
      "Requirement already satisfied: mdurl~=0.1 in c:\\users\\sashi\\anaconda3\\lib\\site-packages (from markdown-it-py<3.0.0,>=2.2.0->rich>=10.4.0->keybert) (0.1.0)\n",
      "Requirement already satisfied: sympy in c:\\users\\sashi\\anaconda3\\lib\\site-packages (from torch>=1.11.0->sentence-transformers>=0.3.8->keybert) (1.12)\n",
      "Requirement already satisfied: networkx in c:\\users\\sashi\\anaconda3\\lib\\site-packages (from torch>=1.11.0->sentence-transformers>=0.3.8->keybert) (3.2.1)\n",
      "Requirement already satisfied: jinja2 in c:\\users\\sashi\\anaconda3\\lib\\site-packages (from torch>=1.11.0->sentence-transformers>=0.3.8->keybert) (3.1.4)\n",
      "Requirement already satisfied: setuptools in c:\\users\\sashi\\anaconda3\\lib\\site-packages (from torch>=1.11.0->sentence-transformers>=0.3.8->keybert) (74.1.0)\n",
      "Requirement already satisfied: MarkupSafe>=2.0 in c:\\users\\sashi\\anaconda3\\lib\\site-packages (from jinja2->torch>=1.11.0->sentence-transformers>=0.3.8->keybert) (2.1.5)\n",
      "Requirement already satisfied: mpmath>=0.19 in c:\\users\\sashi\\anaconda3\\lib\\site-packages (from sympy->torch>=1.11.0->sentence-transformers>=0.3.8->keybert) (1.3.0)\n"
     ]
    }
   ],
   "source": [
    "!pip install transformers keybert"
   ]
  },
  {
   "cell_type": "code",
   "execution_count": 29,
   "id": "9bcc19eb-cf70-42b8-b5f5-6af5b6be9735",
   "metadata": {},
   "outputs": [],
   "source": [
    "#java 오류시\n",
    "#import os\n",
    "#os.environ['JAVA_HOME'] = r'C:\\Program Files\\Java\\jdk-23'  # 설치된 JDK 경로로 변경\n",
    "#os.environ['PATH'] = os.environ['JAVA_HOME'] + r'\\bin;' + os.environ['PATH']"
   ]
  },
  {
   "cell_type": "code",
   "execution_count": 17,
   "id": "958bcded-82b1-4c67-9b80-f8a761bec9b0",
   "metadata": {},
   "outputs": [],
   "source": [
    "url = 'https://n.news.naver.com/mnews/article/014/0005261392'"
   ]
  },
  {
   "cell_type": "code",
   "execution_count": 19,
   "id": "78a057f0-eea3-4ac8-af5e-0bdb9b43c700",
   "metadata": {},
   "outputs": [
    {
     "data": {
      "application/vnd.jupyter.widget-view+json": {
       "model_id": "6a8460cb9fe1407fae04cc8be15513d6",
       "version_major": 2,
       "version_minor": 0
      },
      "text/plain": [
       "config.json:   0%|          | 0.00/533 [00:00<?, ?B/s]"
      ]
     },
     "metadata": {},
     "output_type": "display_data"
    },
    {
     "name": "stderr",
     "output_type": "stream",
     "text": [
      "C:\\Users\\sashi\\anaconda3\\Lib\\site-packages\\huggingface_hub\\file_download.py:159: UserWarning: `huggingface_hub` cache-system uses symlinks by default to efficiently store duplicated files but your machine does not support them in C:\\Users\\sashi\\.cache\\huggingface\\hub\\models--yiyanghkust--finbert-tone. Caching files will still work but in a degraded version that might require more space on your disk. This warning can be disabled by setting the `HF_HUB_DISABLE_SYMLINKS_WARNING` environment variable. For more details, see https://huggingface.co/docs/huggingface_hub/how-to-cache#limitations.\n",
      "To support symlinks on Windows, you either need to activate Developer Mode or to run Python as an administrator. In order to see activate developer mode, see this article: https://docs.microsoft.com/en-us/windows/apps/get-started/enable-your-device-for-development\n",
      "  warnings.warn(message)\n"
     ]
    },
    {
     "data": {
      "application/vnd.jupyter.widget-view+json": {
       "model_id": "3cb88e902c5d4794b116540eaf3ffa3c",
       "version_major": 2,
       "version_minor": 0
      },
      "text/plain": [
       "vocab.txt:   0%|          | 0.00/226k [00:00<?, ?B/s]"
      ]
     },
     "metadata": {},
     "output_type": "display_data"
    },
    {
     "data": {
      "application/vnd.jupyter.widget-view+json": {
       "model_id": "5efda71ca8744868b9d45166155dcab5",
       "version_major": 2,
       "version_minor": 0
      },
      "text/plain": [
       "pytorch_model.bin:   0%|          | 0.00/439M [00:00<?, ?B/s]"
      ]
     },
     "metadata": {},
     "output_type": "display_data"
    },
    {
     "data": {
      "application/vnd.jupyter.widget-view+json": {
       "model_id": "ac3997bc32894190a610cc13db7355c4",
       "version_major": 2,
       "version_minor": 0
      },
      "text/plain": [
       "model.safetensors:   0%|          | 0.00/439M [00:00<?, ?B/s]"
      ]
     },
     "metadata": {},
     "output_type": "display_data"
    },
    {
     "name": "stdout",
     "output_type": "stream",
     "text": [
      "Extracted data saved to financial_terms_extracted.json\n"
     ]
    }
   ],
   "source": [
    "import json\n",
    "import requests\n",
    "from bs4 import BeautifulSoup\n",
    "from transformers import AutoTokenizer, AutoModelForSequenceClassification\n",
    "from keybert import KeyBERT\n",
    "import torch\n",
    "\n",
    "# FinBERT 모델과 토크나이저 초기화\n",
    "tokenizer = AutoTokenizer.from_pretrained(\"yiyanghkust/finbert-tone\")\n",
    "model = AutoModelForSequenceClassification.from_pretrained(\"yiyanghkust/finbert-tone\")\n",
    "\n",
    "# KeyBERT 초기화\n",
    "kw_model = KeyBERT()\n",
    "\n",
    "# 주어진 URL에서 기사 본문을 크롤링하는 함수\n",
    "def crawl_article_text(url):\n",
    "    response = requests.get(url)\n",
    "    soup = BeautifulSoup(response.text, 'html.parser')\n",
    "    article_content = soup.select_one('#dic_area')\n",
    "    return article_content.get_text(separator=\" \", strip=True) if article_content else None\n",
    "\n",
    "# FinBERT를 사용하여 금융 관련 키워드 추출\n",
    "def extract_financial_terms(text, top_n=10):\n",
    "    # KeyBERT를 사용해 주요 키워드 추출\n",
    "    keywords = kw_model.extract_keywords(text, keyphrase_ngram_range=(1, 2), stop_words='english', top_n=top_n)\n",
    "    \n",
    "    # FinBERT로 키워드를 검토하여 금융 용어 필터링\n",
    "    financial_terms = []\n",
    "    for kw in keywords:\n",
    "        inputs = tokenizer(kw[0], return_tensors=\"pt\")\n",
    "        outputs = model(**inputs)\n",
    "        scores = torch.nn.functional.softmax(outputs.logits, dim=-1)\n",
    "        label = torch.argmax(scores).item()\n",
    "        \n",
    "        # 긍정(Positive), 부정(Negative), 중립(Neutral) 중 금융 관련성이 높은 용어를 추가\n",
    "        if label == 0:  # 중립 (금융 용어 가능성이 높음)\n",
    "            financial_terms.append(kw[0])\n",
    "\n",
    "    return list(set(financial_terms))\n",
    "\n",
    "# 노드와 관계를 구조화하여 JSON 형식으로 저장\n",
    "def create_nodes_and_edges(terms):\n",
    "    node_id = 1\n",
    "    nodes = []\n",
    "    edges = []\n",
    "\n",
    "    term_map = {}\n",
    "    for term in terms:\n",
    "        # 노드 생성\n",
    "        nodes.append({\"id\": node_id, \"word\": term})\n",
    "        term_map[term] = node_id\n",
    "        node_id += 1\n",
    "\n",
    "    # 용어 간 임의 관계 추가 (예시)\n",
    "    for i in range(len(terms)):\n",
    "        for j in range(i + 1, len(terms)):\n",
    "            edges.append({\n",
    "                \"source\": term_map[terms[i]],\n",
    "                \"target\": term_map[terms[j]],\n",
    "                \"relation_description\": f\"{terms[i]}와 {terms[j]}는 금융 기사에서 관련된 용어로 함께 등장합니다.\"\n",
    "            })\n",
    "\n",
    "    return {\"nodes\": nodes, \"edges\": edges}\n",
    "\n",
    "\n",
    "# 기사 본문 크롤링\n",
    "article_text = crawl_article_text(url)\n",
    "\n",
    "# 본문이 없을 경우 종료\n",
    "if not article_text:\n",
    "    print(f\"Article content not found for {url}\")\n",
    "else:\n",
    "    # FinBERT 및 KeyBERT를 통해 금융 용어 추출\n",
    "    financial_terms = extract_financial_terms(article_text)\n",
    "\n",
    "    # 노드 및 관계 생성\n",
    "    extracted_data = create_nodes_and_edges(financial_terms)\n",
    "\n",
    "    # JSON 형식으로 저장\n",
    "    output_path = 'financial_terms_extracted.json'\n",
    "    with open(output_path, 'w', encoding='utf-8') as f:\n",
    "        json.dump(extracted_data, f, ensure_ascii=False, indent=4)\n",
    "\n",
    "    print(f\"Extracted data saved to {output_path}\")\n"
   ]
  },
  {
   "cell_type": "code",
   "execution_count": null,
   "id": "7fc925ea-1b2a-4333-91b4-24fff353fc37",
   "metadata": {},
   "outputs": [],
   "source": []
  }
 ],
 "metadata": {
  "kernelspec": {
   "display_name": "Python 3 (ipykernel)",
   "language": "python",
   "name": "python3"
  },
  "language_info": {
   "codemirror_mode": {
    "name": "ipython",
    "version": 3
   },
   "file_extension": ".py",
   "mimetype": "text/x-python",
   "name": "python",
   "nbconvert_exporter": "python",
   "pygments_lexer": "ipython3",
   "version": "3.12.4"
  }
 },
 "nbformat": 4,
 "nbformat_minor": 5
}
