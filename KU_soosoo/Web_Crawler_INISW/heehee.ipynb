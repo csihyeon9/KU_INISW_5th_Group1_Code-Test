{
 "cells": [
  {
   "cell_type": "code",
   "execution_count": 2,
   "metadata": {},
   "outputs": [
    {
     "name": "stdout",
     "output_type": "stream",
     "text": [
      "robots.txt 파일을 찾을 수 없습니다.\n"
     ]
    }
   ],
   "source": [
    "import requests\n",
    "\n",
    "def fetch_robots_txt(url):\n",
    "    # robots.txt의 URL을 구성\n",
    "    if not url.endswith('/'):\n",
    "        url += '/'\n",
    "    robots_url = url + \"robots.txt\"\n",
    "    \n",
    "    try:\n",
    "        response = requests.get(robots_url)\n",
    "        \n",
    "        # 응답이 성공적일 경우 내용 반환\n",
    "        if response.status_code == 200:\n",
    "            print(\"robots.txt 파일을 성공적으로 가져왔습니다.\")\n",
    "            return response.text\n",
    "        elif response.status_code == 404:\n",
    "            print(\"robots.txt 파일을 찾을 수 없습니다.\")\n",
    "        else:\n",
    "            print(f\"요청 실패: 상태 코드 {response.status_code}\")\n",
    "    except requests.exceptions.RequestException as e:\n",
    "        print(f\"오류 발생: {e}\")\n",
    "    return None\n",
    "\n",
    "# 예시\n",
    "url = \"https://www.mk.co.kr/news/economy/11153146\"\n",
    "robots_txt_content = fetch_robots_txt(url)\n",
    "\n",
    "if robots_txt_content:\n",
    "    print(\"\\nrobots.txt 내용:\")\n",
    "    print(robots_txt_content)"
   ]
  }
 ],
 "metadata": {
  "kernelspec": {
   "display_name": "aimath",
   "language": "python",
   "name": "python3"
  },
  "language_info": {
   "codemirror_mode": {
    "name": "ipython",
    "version": 3
   },
   "file_extension": ".py",
   "mimetype": "text/x-python",
   "name": "python",
   "nbconvert_exporter": "python",
   "pygments_lexer": "ipython3",
   "version": "3.11.8"
  }
 },
 "nbformat": 4,
 "nbformat_minor": 2
}
